{
 "cells": [
  {
   "cell_type": "code",
   "execution_count": 2,
   "id": "09a513af",
   "metadata": {},
   "outputs": [],
   "source": [
    "import joblib \n",
    "import os\n",
    "import cv2\n",
    "import numpy as np"
   ]
  },
  {
   "cell_type": "code",
   "execution_count": 3,
   "id": "ac205a46",
   "metadata": {},
   "outputs": [],
   "source": [
    "model = joblib.load('faceRecogntionSVM.sav')"
   ]
  },
  {
   "cell_type": "code",
   "execution_count": 4,
   "id": "036e8d64",
   "metadata": {},
   "outputs": [],
   "source": [
    "category_dict = {0: 'Barack Obama', 1: 'Donald Trump', 2: 'George W Bush'}"
   ]
  },
  {
   "cell_type": "code",
   "execution_count": 11,
   "id": "d999b13c",
   "metadata": {},
   "outputs": [],
   "source": [
    "test_data_path = 'dataset/test_data'\n",
    "face_classifier = cv2.CascadeClassifier('haarcascade_frontalface_default.xml')\n",
    "\n",
    "test_images = os.listdir(test_data_path)\n",
    "for image in test_images:\n",
    "    img_path = os.path.join(test_data_path, image)\n",
    "    test_image = cv2.imread(img_path)\n",
    "    gray = cv2.cvtColor(test_image,cv2.COLOR_BGR2GRAY)\n",
    "    faces = face_classifier.detectMultiScale(gray)\n",
    "    for(x,y,w,h) in faces:\n",
    "        cv2.rectangle(test_image,(x,y),(x+w,y+h),(0,255,0),2)\n",
    "        cropped_face = gray[y:y+h, x:x+w]\n",
    "        cropped_face = cv2.resize(cropped_face,(50,50))\n",
    "        cropped_original = cropped_face\n",
    "        cropped_face = cropped_face.reshape(1,2500)\n",
    "        result = model.predict(cropped_face)\n",
    "        name = category_dict[result[0]]\n",
    "        cv2.putText(test_image,name,(x,y-10),cv2.FONT_HERSHEY_SIMPLEX,1.5,(0,255,0),2)\n",
    "        # cv2.imshow('Face Recognition',cropped_original)\n",
    "    cv2.imshow('Face Recognition',test_image)\n",
    "\n",
    "    k=cv2.waitKey(1000)\n",
    "    if(k==27):\n",
    "        break\n",
    "cv2.destroyAllWindows()\n",
    "    "
   ]
  },
  {
   "cell_type": "code",
   "execution_count": null,
   "id": "ffaead59",
   "metadata": {},
   "outputs": [],
   "source": []
  }
 ],
 "metadata": {
  "kernelspec": {
   "display_name": "Python 3",
   "language": "python",
   "name": "python3"
  },
  "language_info": {
   "codemirror_mode": {
    "name": "ipython",
    "version": 3
   },
   "file_extension": ".py",
   "mimetype": "text/x-python",
   "name": "python",
   "nbconvert_exporter": "python",
   "pygments_lexer": "ipython3",
   "version": "3.13.3"
  }
 },
 "nbformat": 4,
 "nbformat_minor": 5
}
